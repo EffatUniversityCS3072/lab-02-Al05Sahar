{
 "cells": [
  {
   "cell_type": "markdown",
   "id": "582fd51e",
   "metadata": {},
   "source": [
    "# Lab 2: numpy\n",
    "\n",
    "#### Practice Exercise 1\n",
    "\n",
    "Create the following NumPy arrays: \n",
    "1. A 1-D array called zeros having 10 elements and all the elements are set to zero. \n",
    "2. A 1-D array called vowels having the elements ‘a’, ‘e’, ‘i’, ‘o’ and ‘u’. \n",
    "3. A 2-D array called ones having 2 rows and 5 columns and all the elements are set to 1 and dtype as int. \n",
    "4. Use nested Python lists to create a 2-D array called myarray1 having 3 rows and 3 columns and store the following data: 2.7,  0,  -2,  3.4,  10.6,  0,  -19 99.9 13 \n",
    "5. A 2-D array called myarray2 using arange() having 3 rows and 5 columns with start value = 4, step size 4 and dtype as float\n"
   ]
  },
  {
   "cell_type": "code",
   "execution_count": 283,
   "id": "40db5425-b2b7-4e5f-80c1-a815aab86fc2",
   "metadata": {},
   "outputs": [],
   "source": [
    "import numpy as np"
   ]
  },
  {
   "cell_type": "code",
   "execution_count": 285,
   "id": "9195d139",
   "metadata": {},
   "outputs": [
    {
     "data": {
      "text/plain": [
       "array([0., 0., 0., 0., 0., 0., 0., 0., 0., 0.])"
      ]
     },
     "execution_count": 285,
     "metadata": {},
     "output_type": "execute_result"
    }
   ],
   "source": [
    "# Write your answer here\n",
    "#A 1-D array called zeros having 10 elements and all the elements are set to zero.\n",
    "zeros = np.zeros(10)\n",
    "zeros\n"
   ]
  },
  {
   "cell_type": "code",
   "execution_count": 287,
   "id": "02294103-6837-4504-83a0-f8dab1910bf6",
   "metadata": {},
   "outputs": [
    {
     "data": {
      "text/plain": [
       "array([1., 1., 1., 1., 1., 1., 1., 1., 1., 1.])"
      ]
     },
     "execution_count": 287,
     "metadata": {},
     "output_type": "execute_result"
    }
   ],
   "source": [
    "\n",
    "ones = np.ones(10)\n",
    "ones"
   ]
  },
  {
   "cell_type": "code",
   "execution_count": 356,
   "id": "1f5d48de-8908-4e75-946c-5409786ab7d1",
   "metadata": {},
   "outputs": [
    {
     "data": {
      "text/plain": [
       "array(['a', 'e', 'i', 'ou'], dtype='<U2')"
      ]
     },
     "execution_count": 356,
     "metadata": {},
     "output_type": "execute_result"
    }
   ],
   "source": [
    "#A 1-D array called vowels having the elements ‘a’, ‘e’, ‘i’, ‘o’ and ‘u’.\n",
    "vowels = np.array(['a', 'e', 'i', 'o'  'u'])\n",
    "vowels"
   ]
  },
  {
   "cell_type": "code",
   "execution_count": 291,
   "id": "1f54877a-d7b4-4733-8929-695dc2b9f394",
   "metadata": {},
   "outputs": [
    {
     "data": {
      "text/plain": [
       "array([[1, 1, 1, 1, 1],\n",
       "       [1, 1, 1, 1, 1]])"
      ]
     },
     "execution_count": 291,
     "metadata": {},
     "output_type": "execute_result"
    }
   ],
   "source": [
    "#A 2-D array called ones having 2 rows and 5 columns and all the elements are set to 1 and dtype as int.\n",
    "#ones = np.ones(25).reshape(5,5)\n",
    "#ones = np.ones(10).reshape(2,5)\n",
    "ones = np.ones(10,dtype=int).reshape(2,5)\n",
    "ones "
   ]
  },
  {
   "cell_type": "code",
   "execution_count": 293,
   "id": "29a31b7d-0f20-43ab-becf-babc91fb7118",
   "metadata": {},
   "outputs": [
    {
     "data": {
      "text/plain": [
       "array([[  2.7,   0. ,  -2. ],\n",
       "       [  3.4,  10.6,   0. ],\n",
       "       [-19. ,  99.9,  13. ]])"
      ]
     },
     "execution_count": 293,
     "metadata": {},
     "output_type": "execute_result"
    }
   ],
   "source": [
    "\n",
    "#Use nested Python lists to create a 2-D array called myarray1 having 3 rows and 3 columns and store the following data: 2.7, 0, -2, 3.4, 10.6, 0, -19 99.9 13\n",
    "myarray1 =np.array([[2.7, 0, -2],[ 3.4, 10.6, 0],[-19, 99.9 ,13]])\n",
    "myarray1"
   ]
  },
  {
   "cell_type": "code",
   "execution_count": 295,
   "id": "97e1532a-8b1f-4fc5-a038-ea074070da5d",
   "metadata": {},
   "outputs": [
    {
     "data": {
      "text/plain": [
       "array([[ 4.,  8., 12., 16., 20.],\n",
       "       [24., 28., 32., 36., 40.],\n",
       "       [44., 48., 52., 56., 60.]])"
      ]
     },
     "execution_count": 295,
     "metadata": {},
     "output_type": "execute_result"
    }
   ],
   "source": [
    "#A 2-D array called myarray2 using arange() having 3 rows and 5 columns with start value = 4, step size 4 and dtype as float\n",
    "myarray2 = np.arange(4, 4+15*4 , 4,dtype=float).reshape(3,5)\n",
    "myarray2 "
   ]
  },
  {
   "cell_type": "markdown",
   "id": "2d3fc3a8",
   "metadata": {},
   "source": [
    "Using the arrays created in Question above, write NumPy commands for the following: \n",
    "1. Find the dimensions, shape, size, data type of the items and itemsize of arrays zeros, vowels, ones, myarray1 and myarray2. \n",
    "2. Reshape the array ones to have all the 10 elements in a single row. \n",
    "3. Display the 2nd and 3rd element of the array vowels. \n",
    "4. Display all elements in the 2nd and 3rd row of the array myarray1. \n",
    "5. Display the elements in the 1st and 2nd column of the array myarray1. \n",
    "6. Display the elements in the 1st column of the 2nd and 3rd row of the array myarray1. \n",
    "7. Reverse the array of vowels."
   ]
  },
  {
   "cell_type": "code",
   "execution_count": 298,
   "id": "fc69c3db",
   "metadata": {},
   "outputs": [
    {
     "data": {
      "text/plain": [
       "((10,), 10, 1, dtype('float64'), 8)"
      ]
     },
     "execution_count": 298,
     "metadata": {},
     "output_type": "execute_result"
    }
   ],
   "source": [
    "#Write your answer here\n",
    "q1_zeros=zeros.shape,zeros.size,zeros.ndim,zeros.dtype,zeros.itemsize\n",
    "q1_zeros\n"
   ]
  },
  {
   "cell_type": "code",
   "execution_count": 300,
   "id": "6d9ffa53-dcbd-46c7-b642-8f35c113ae3b",
   "metadata": {},
   "outputs": [
    {
     "data": {
      "text/plain": [
       "((4,), 4, 1, dtype('<U2'), 8)"
      ]
     },
     "execution_count": 300,
     "metadata": {},
     "output_type": "execute_result"
    }
   ],
   "source": [
    "q1_vowels=vowels.shape,vowels.size,vowels.ndim,vowels.dtype,vowels.itemsize\n",
    "q1_vowels"
   ]
  },
  {
   "cell_type": "code",
   "execution_count": 302,
   "id": "814901e4-a257-4572-946c-4ea98bf53c7c",
   "metadata": {},
   "outputs": [
    {
     "data": {
      "text/plain": [
       "((2, 5), 10, 2, dtype('int32'), 4)"
      ]
     },
     "execution_count": 302,
     "metadata": {},
     "output_type": "execute_result"
    }
   ],
   "source": [
    "q1_ones=ones.shape,ones.size,ones.ndim,ones.dtype,ones.itemsize\n",
    "q1_ones"
   ]
  },
  {
   "cell_type": "code",
   "execution_count": 304,
   "id": "1af4f49f-7218-4042-a084-61cb396bbf2a",
   "metadata": {},
   "outputs": [
    {
     "data": {
      "text/plain": [
       "((3, 3), 9, 2, dtype('float64'), 8)"
      ]
     },
     "execution_count": 304,
     "metadata": {},
     "output_type": "execute_result"
    }
   ],
   "source": [
    "q1_myarray1=myarray1.shape,myarray1.size,myarray1.ndim,myarray1.dtype,myarray1.itemsize\n",
    "q1_myarray1"
   ]
  },
  {
   "cell_type": "code",
   "execution_count": 306,
   "id": "7ef2c669-093d-4bb0-946c-2022f13cf42e",
   "metadata": {},
   "outputs": [
    {
     "data": {
      "text/plain": [
       "((3, 5), 15, 2, dtype('float64'), 8)"
      ]
     },
     "execution_count": 306,
     "metadata": {},
     "output_type": "execute_result"
    }
   ],
   "source": [
    "q1_myarray2=myarray2.shape,myarray2.size,myarray2.ndim,myarray2.dtype,myarray2.itemsize\n",
    "q1_myarray2"
   ]
  },
  {
   "cell_type": "code",
   "execution_count": 308,
   "id": "8b1e4119-f928-4244-8ac2-beda5af6ec0e",
   "metadata": {},
   "outputs": [
    {
     "data": {
      "text/plain": [
       "array([[1, 1, 1, 1, 1, 1, 1, 1, 1, 1]])"
      ]
     },
     "execution_count": 308,
     "metadata": {},
     "output_type": "execute_result"
    }
   ],
   "source": [
    "#Reshape the array ones to have all the 10 elements in a single row.\n",
    "q2= ones.reshape(1,10)\n",
    "q2\n"
   ]
  },
  {
   "cell_type": "code",
   "execution_count": 310,
   "id": "3458a737-bea1-4816-8a6b-4197783d77e7",
   "metadata": {},
   "outputs": [
    {
     "data": {
      "text/plain": [
       "array(['e', 'i'], dtype='<U2')"
      ]
     },
     "execution_count": 310,
     "metadata": {},
     "output_type": "execute_result"
    }
   ],
   "source": [
    "#Display the 2nd and 3rd element of the array vowels.\n",
    "q3=vowels[1:3]\n",
    "q3"
   ]
  },
  {
   "cell_type": "code",
   "execution_count": 312,
   "id": "c191b3c5-0662-4f9f-b354-654148e2e259",
   "metadata": {},
   "outputs": [
    {
     "name": "stdout",
     "output_type": "stream",
     "text": [
      "[[  2.7   0.   -2. ]\n",
      " [  3.4  10.6   0. ]\n",
      " [-19.   99.9  13. ]]\n"
     ]
    }
   ],
   "source": [
    "print(myarray1)"
   ]
  },
  {
   "cell_type": "code",
   "execution_count": 314,
   "id": "9b596b41-91d7-413d-9120-f7a374abda57",
   "metadata": {},
   "outputs": [
    {
     "data": {
      "text/plain": [
       "array([[  3.4,  10.6,   0. ],\n",
       "       [-19. ,  99.9,  13. ]])"
      ]
     },
     "execution_count": 314,
     "metadata": {},
     "output_type": "execute_result"
    }
   ],
   "source": [
    "#Display all elements in the 2nd and 3rd row of the array myarray1.\n",
    "q4=myarray1[1:3 , :]\n",
    "q4"
   ]
  },
  {
   "cell_type": "code",
   "execution_count": 316,
   "id": "ea0c736c-6c8a-49c4-888c-15ff471a8c8d",
   "metadata": {},
   "outputs": [
    {
     "data": {
      "text/plain": [
       "array([[  2.7,   0. ],\n",
       "       [  3.4,  10.6],\n",
       "       [-19. ,  99.9]])"
      ]
     },
     "execution_count": 316,
     "metadata": {},
     "output_type": "execute_result"
    }
   ],
   "source": [
    "#Display the elements in the 1st and 2nd column of the array myarray1.\n",
    "q5=myarray1[ : , 0:2 ]\n",
    "q5"
   ]
  },
  {
   "cell_type": "code",
   "execution_count": 318,
   "id": "eadb3f1f-b33e-4b0b-8485-c5f187183684",
   "metadata": {},
   "outputs": [
    {
     "data": {
      "text/plain": [
       "array([[  3.4],\n",
       "       [-19. ]])"
      ]
     },
     "execution_count": 318,
     "metadata": {},
     "output_type": "execute_result"
    }
   ],
   "source": [
    "#Display the elements in the 1st column of the 2nd and 3rd row of the array myarray1. \n",
    "q6 = myarray1[ 1:3 ,  0:1 ]\n",
    "q6"
   ]
  },
  {
   "cell_type": "code",
   "execution_count": 320,
   "id": "41ab8e58-7fb2-4ded-bf67-46eadaddda79",
   "metadata": {},
   "outputs": [
    {
     "data": {
      "text/plain": [
       "array(['ou', 'i', 'e', 'a'], dtype='<U2')"
      ]
     },
     "execution_count": 320,
     "metadata": {},
     "output_type": "execute_result"
    }
   ],
   "source": [
    "#Reverse the array of vowels.\n",
    "q7 = vowels[: :-1]\n",
    "q7"
   ]
  },
  {
   "cell_type": "markdown",
   "id": "e1edb3bb",
   "metadata": {},
   "source": [
    "Using the arrays created in Question above, write NumPy commands for the following:\n",
    "1. Divide all elements of array ones by 3. \n",
    "2. Add the arrays myarray1 and myarray2. \n",
    "3. Subtract myarray1 from myarray2 and store the result in a new array. \n",
    "4. Multiply myarray1 and myarray2 elementwise. \n",
    "5. Do the matrix multiplication of myarray1 and myarray2 and store the result in a new array myarray3. \n",
    "6. Divide myarray1 by myarray2. \n",
    "7. Find the cube of all elements of myarray1 and divide the resulting array by 2. \n",
    "8. Find the square root of all elements of myarray2   and divide the resulting array by 2. The result  should be rounded to two places of decimals."
   ]
  },
  {
   "cell_type": "code",
   "execution_count": 323,
   "id": "3c933386",
   "metadata": {},
   "outputs": [
    {
     "data": {
      "text/plain": [
       "array([[0.33333333, 0.33333333, 0.33333333, 0.33333333, 0.33333333],\n",
       "       [0.33333333, 0.33333333, 0.33333333, 0.33333333, 0.33333333]])"
      ]
     },
     "execution_count": 323,
     "metadata": {},
     "output_type": "execute_result"
    }
   ],
   "source": [
    "# Write your answer here\n",
    "#Divide all elements of array ones by 3\n",
    "q1=ones/3\n",
    "q1\n",
    "\n",
    "\n"
   ]
  },
  {
   "cell_type": "code",
   "execution_count": 325,
   "id": "f0970e1f-768f-454f-876c-0496f88670d0",
   "metadata": {},
   "outputs": [
    {
     "data": {
      "text/plain": [
       "(3, 3)"
      ]
     },
     "execution_count": 325,
     "metadata": {},
     "output_type": "execute_result"
    }
   ],
   "source": [
    "myarray1.shape"
   ]
  },
  {
   "cell_type": "code",
   "execution_count": 327,
   "id": "96d53798-5f41-48ec-8c49-b06ad9a56fc3",
   "metadata": {},
   "outputs": [
    {
     "data": {
      "text/plain": [
       "(3, 5)"
      ]
     },
     "execution_count": 327,
     "metadata": {},
     "output_type": "execute_result"
    }
   ],
   "source": [
    "myarray2.shape"
   ]
  },
  {
   "cell_type": "code",
   "execution_count": 329,
   "id": "1d28c519-607e-4ffa-ba3c-4d6b538055c0",
   "metadata": {},
   "outputs": [
    {
     "data": {
      "text/plain": [
       "array([[  6.7,   8. ,  10. ],\n",
       "       [ 27.4,  38.6,  32. ],\n",
       "       [ 25. , 147.9,  65. ]])"
      ]
     },
     "execution_count": 329,
     "metadata": {},
     "output_type": "execute_result"
    }
   ],
   "source": [
    "#Add the arrays myarray1 and myarray2.\n",
    "q2 = myarray1 + myarray2[ : , 0:3 ]\n",
    "q2 "
   ]
  },
  {
   "cell_type": "code",
   "execution_count": 331,
   "id": "dcfeff7e-02cf-4f55-9b1b-608c57025f5a",
   "metadata": {},
   "outputs": [
    {
     "data": {
      "text/plain": [
       "array([[ -1.3,  -8. , -14. ],\n",
       "       [-20.6, -17.4, -32. ],\n",
       "       [-63. ,  51.9, -39. ]])"
      ]
     },
     "execution_count": 331,
     "metadata": {},
     "output_type": "execute_result"
    }
   ],
   "source": [
    "#Subtract myarray1 from myarray2 and store the result in a new array.\n",
    "q3c= myarray1 - myarray2[ : , 0:3 ]\n",
    "q3c"
   ]
  },
  {
   "cell_type": "code",
   "execution_count": 333,
   "id": "a8cd5e98-0595-4cb3-9b06-09a2a7c2d850",
   "metadata": {},
   "outputs": [
    {
     "data": {
      "text/plain": [
       "array([[-14. ,  -8. ,  -1.3],\n",
       "       [-32. , -20.6, -17.4],\n",
       "       [-63. , -39. ,  51.9]])"
      ]
     },
     "execution_count": 333,
     "metadata": {},
     "output_type": "execute_result"
    }
   ],
   "source": [
    "q3c.sort()\n",
    "q3c"
   ]
  },
  {
   "cell_type": "code",
   "execution_count": 335,
   "id": "1acbd5c7-81a2-4c67-b8fa-db629664aeff",
   "metadata": {},
   "outputs": [
    {
     "data": {
      "text/plain": [
       "array([[  10.8,    0. ,  -24. ],\n",
       "       [  81.6,  296.8,    0. ],\n",
       "       [-836. , 4795.2,  676. ]])"
      ]
     },
     "execution_count": 335,
     "metadata": {},
     "output_type": "execute_result"
    }
   ],
   "source": [
    "#Multiply myarray1 and myarray2 elementwise.\n",
    "myarray3 = myarray1 * myarray2[ : , 0:3 ]\n",
    "myarray3"
   ]
  },
  {
   "cell_type": "code",
   "execution_count": 337,
   "id": "d7c8b369-6073-4f28-850c-2c71cc340185",
   "metadata": {},
   "outputs": [
    {
     "data": {
      "text/plain": [
       "array([[ -24. ,    0. ,   10.8],\n",
       "       [   0. ,   81.6,  296.8],\n",
       "       [-836. ,  676. , 4795.2]])"
      ]
     },
     "execution_count": 337,
     "metadata": {},
     "output_type": "execute_result"
    }
   ],
   "source": [
    "#Do the matrix multiplication of myarray1 and myarray2 and store the result in a new array myarray3.\n",
    "myarray3.sort()\n",
    "myarray3\n"
   ]
  },
  {
   "cell_type": "code",
   "execution_count": 339,
   "id": "a82b8e78-53f9-42cd-8aca-cb3f1e3e0047",
   "metadata": {},
   "outputs": [
    {
     "data": {
      "text/plain": [
       "array([[ 0.675     ,  0.        , -0.16666667],\n",
       "       [ 0.14166667,  0.37857143,  0.        ],\n",
       "       [-0.43181818,  2.08125   ,  0.25      ]])"
      ]
     },
     "execution_count": 339,
     "metadata": {},
     "output_type": "execute_result"
    }
   ],
   "source": [
    "q6c = myarray1 / myarray2[ : , 0:3 ]\n",
    "q6c"
   ]
  },
  {
   "cell_type": "code",
   "execution_count": 341,
   "id": "c5c0b929-6868-4538-a73b-cb8d75c8ee38",
   "metadata": {},
   "outputs": [
    {
     "data": {
      "text/plain": [
       "array([[ 9.841500e+00,  0.000000e+00, -4.000000e+00],\n",
       "       [ 1.965200e+01,  5.955080e+02,  0.000000e+00],\n",
       "       [-3.429500e+03,  4.985015e+05,  1.098500e+03]])"
      ]
     },
     "execution_count": 341,
     "metadata": {},
     "output_type": "execute_result"
    }
   ],
   "source": [
    "#Find the cube of all elements of myarray1 and divide the resulting array by 2.\n",
    "q7c = myarray1**3\n",
    "q7c/2"
   ]
  },
  {
   "cell_type": "code",
   "execution_count": 343,
   "id": "07fac757-67e8-4012-8b35-960076f46cad",
   "metadata": {},
   "outputs": [
    {
     "data": {
      "text/plain": [
       "array([[1.  , 1.41, 1.73, 2.  , 2.24],\n",
       "       [2.45, 2.65, 2.83, 3.  , 3.16],\n",
       "       [3.32, 3.46, 3.61, 3.74, 3.87]])"
      ]
     },
     "execution_count": 343,
     "metadata": {},
     "output_type": "execute_result"
    }
   ],
   "source": [
    "\n",
    "#Find the square root of all elements of myarray2 and divide the resulting array by 2. The result should be rounded to two places of decimals.\n",
    "q8c =np.round((np.sqrt( myarray2 ))/2,2)\n",
    "q8c"
   ]
  },
  {
   "cell_type": "markdown",
   "id": "d8aafc74",
   "metadata": {},
   "source": [
    "Using the arrays created above, write NumPy commands for the following: \n",
    "1. Find the transpose of ones and myarray2. \n",
    "2. Sort the array vowels in reverse. \n",
    "3. Sort the array myarray1 such that it brings the lowest value of the column in the first row and so on."
   ]
  },
  {
   "cell_type": "code",
   "execution_count": 346,
   "id": "573c6506",
   "metadata": {},
   "outputs": [
    {
     "data": {
      "text/plain": [
       "array([[ 4., 24., 44.],\n",
       "       [ 8., 28., 48.],\n",
       "       [12., 32., 52.],\n",
       "       [16., 36., 56.],\n",
       "       [20., 40., 60.]])"
      ]
     },
     "execution_count": 346,
     "metadata": {},
     "output_type": "execute_result"
    }
   ],
   "source": [
    "# Write your answer here\n",
    "#Find the transpose of ones and myarray2.\n",
    "#transpose_myarray2 = myarray2.T\n",
    "#transpose_myarray2\n",
    "np.transpose (myarray2)\n"
   ]
  },
  {
   "cell_type": "code",
   "execution_count": 376,
   "id": "75d69361-ab92-4bd2-b1d1-12d2798277fa",
   "metadata": {},
   "outputs": [
    {
     "name": "stdout",
     "output_type": "stream",
     "text": [
      "['a' 'e' 'i' 'ou']\n"
     ]
    },
    {
     "data": {
      "text/plain": [
       "array(['ou', 'i', 'e', 'a'], dtype='<U2')"
      ]
     },
     "execution_count": 376,
     "metadata": {},
     "output_type": "execute_result"
    }
   ],
   "source": [
    "#Sort the array vowels in reverse.\n",
    "print(vowels)\n",
    "reversed_arr = np.flip(vowels)\n",
    "reversed_arr\n"
   ]
  },
  {
   "cell_type": "code",
   "execution_count": 420,
   "id": "6add51d0-169f-420d-8f53-38a904297979",
   "metadata": {},
   "outputs": [
    {
     "name": "stdout",
     "output_type": "stream",
     "text": [
      "[[  2.7  99.9  -2. ]\n",
      " [  0.   10.6   3.4]\n",
      " [-19.    0.   13. ]]\n",
      "reversed_myarray1 [[ 13.    0.  -19. ]\n",
      " [  3.4  10.6   0. ]\n",
      " [ -2.   99.9   2.7]]\n",
      "reversed_arr_rows [[-19.    0.   13. ]\n",
      " [  0.   10.6   3.4]\n",
      " [  2.7  99.9  -2. ]]\n",
      "reversed_arr_columns [[ -2.   99.9   2.7]\n",
      " [  3.4  10.6   0. ]\n",
      " [ 13.    0.  -19. ]]\n",
      "myarray1[1] [[  2.7  99.9  -2. ]\n",
      " [  3.4  10.6   0. ]\n",
      " [-19.    0.   13. ]]\n",
      "myarray1[:,1] [[  2.7   0.   -2. ]\n",
      " [  3.4  10.6   0. ]\n",
      " [-19.   99.9  13. ]]\n"
     ]
    }
   ],
   "source": [
    "#Sort the array myarray1 such that it brings the lowest value of the column in the first row and so on.\n",
    "#You can reverse the content in all of the rows and all of the columns with\n",
    "print(myarray1)\n",
    "reversed_arr = np.flip(myarray1 )\n",
    "print('reversed_myarray1'  ,reversed_arr)\n",
    "#You can easily reverse only the rows with:\n",
    "reversed_arr_rows = np.flip(myarray1, axis=0)\n",
    "print('reversed_arr_rows',reversed_arr_rows)\n",
    "#Or reverse only the columns with:\n",
    "reversed_arr_columns = np.flip(myarray1, axis=1)\n",
    "print('reversed_arr_columns',reversed_arr_columns)\n",
    "#You can also reverse the contents of only one column or row. For example, you can reverse the contents of the row at index position 1 (the second row):\n",
    "myarray1[1]= np.flip( myarray1[1])\n",
    "print( 'myarray1[1]',myarray1)\n",
    "#You can also reverse the column at index position 1 (the second column):\n",
    "myarray1[:,1] = np.flip(myarray1[:,1])\n",
    "print('myarray1[:,1]',myarray1)"
   ]
  },
  {
   "cell_type": "markdown",
   "id": "93546856",
   "metadata": {},
   "source": [
    "Create a 2-D array called myarray4 using arange() having 14 rows and 3 columns with start value = -1, step size 0.25 having. Split this array row wise into 3 equal parts and print the result. "
   ]
  },
  {
   "cell_type": "code",
   "execution_count": 448,
   "id": "441dd934",
   "metadata": {},
   "outputs": [
    {
     "name": "stdout",
     "output_type": "stream",
     "text": [
      "Original array:\n",
      " [[-1.   -0.75 -0.5 ]\n",
      " [-0.25  0.    0.25]\n",
      " [ 0.5   0.75  1.  ]\n",
      " [ 1.25  1.5   1.75]\n",
      " [ 2.    2.25  2.5 ]\n",
      " [ 2.75  3.    3.25]\n",
      " [ 3.5   3.75  4.  ]\n",
      " [ 4.25  4.5   4.75]\n",
      " [ 5.    5.25  5.5 ]\n",
      " [ 5.75  6.    6.25]\n",
      " [ 6.5   6.75  7.  ]\n",
      " [ 7.25  7.5   7.75]\n",
      " [ 8.    8.25  8.5 ]\n",
      " [ 8.75  9.    9.25]]\n",
      "\n",
      "First part:\n",
      " [[-1.   -0.75 -0.5 ]\n",
      " [-0.25  0.    0.25]\n",
      " [ 0.5   0.75  1.  ]\n",
      " [ 1.25  1.5   1.75]\n",
      " [ 2.    2.25  2.5 ]]\n",
      "\n",
      "Second part:\n",
      " [[2.75 3.   3.25]\n",
      " [3.5  3.75 4.  ]\n",
      " [4.25 4.5  4.75]\n",
      " [5.   5.25 5.5 ]\n",
      " [5.75 6.   6.25]]\n",
      "\n",
      "Third part:\n",
      " [[6.5  6.75 7.  ]\n",
      " [7.25 7.5  7.75]\n",
      " [8.   8.25 8.5 ]\n",
      " [8.75 9.   9.25]]\n"
     ]
    }
   ],
   "source": [
    "#Create a 2-D array called myarray4 using arange() having 14 rows and 3 columns with start value = -1, step size 0.25 having. Split this array row wise into 3 equal parts and print the result.\n",
    "# Write your answer here\n",
    "\n",
    "\n",
    "# Create the 2D array myarray4 using arange with a start of -1 and a step of 0.25, and reshape it into 14 rows and 3 columns\n",
    "myarray4 = np.arange(-1, -1 + 14 * 3 * 0.25, 0.25).reshape(14, 3)\n",
    "\n",
    "# Print the original array\n",
    "print(\"Original array:\\n\", myarray4)\n",
    "\n",
    "# Split the array into 3 parts using array_split (to allow uneven splitting)\n",
    "result = np.array_split(myarray4, 3)\n",
    "\n",
    "# Print the three parts\n",
    "print(\"\\nFirst part:\\n\", result[0])\n",
    "print(\"\\nSecond part:\\n\", result[1])\n",
    "print(\"\\nThird part:\\n\", result[2])\n",
    "\n"
   ]
  },
  {
   "cell_type": "markdown",
   "id": "c8cdbaff",
   "metadata": {},
   "source": [
    "Using the myarray4 created in the above questions, write commands for the following: \n",
    "1. Find the sum of all elements. \n",
    "2. Find the sum of all elements row wise\n",
    "3. Find the sum of all elements column wise. \n",
    "4. Find the max of all elements. \n",
    "5. Find the min of all elements in each row. \n",
    "6. Find the mean of all elements in each row. \n",
    "7. Find the standard deviation column wise."
   ]
  },
  {
   "cell_type": "code",
   "execution_count": 454,
   "id": "66af8b55",
   "metadata": {},
   "outputs": [
    {
     "data": {
      "text/plain": [
       "173.25"
      ]
     },
     "execution_count": 454,
     "metadata": {},
     "output_type": "execute_result"
    }
   ],
   "source": [
    "# Write your ansewr here\n",
    "#Find the sum of all elements.\n",
    "myarray4.sum()\n",
    "\n",
    "\n"
   ]
  },
  {
   "cell_type": "code",
   "execution_count": 456,
   "id": "2c5bd352-4267-4c42-8a69-fe6160e8bbd7",
   "metadata": {},
   "outputs": [
    {
     "data": {
      "text/plain": [
       "array([-2.25,  0.  ,  2.25,  4.5 ,  6.75,  9.  , 11.25, 13.5 , 15.75,\n",
       "       18.  , 20.25, 22.5 , 24.75, 27.  ])"
      ]
     },
     "execution_count": 456,
     "metadata": {},
     "output_type": "execute_result"
    }
   ],
   "source": [
    "#Find the sum of all elements row wise\n",
    "myarray4.sum(axis=1)"
   ]
  },
  {
   "cell_type": "code",
   "execution_count": 472,
   "id": "e1d248eb-fad2-48da-b882-82093c0cb31a",
   "metadata": {},
   "outputs": [
    {
     "data": {
      "text/plain": [
       "array([-2.25,  0.  ,  2.25,  4.5 ,  6.75,  9.  , 11.25, 13.5 , 15.75,\n",
       "       18.  , 20.25, 22.5 , 24.75, 27.  ])"
      ]
     },
     "execution_count": 472,
     "metadata": {},
     "output_type": "execute_result"
    }
   ],
   "source": [
    "np.sum(myarray4,axis=1)"
   ]
  },
  {
   "cell_type": "code",
   "execution_count": 458,
   "id": "6cde1564-9d2f-48b3-bebb-6328c0ff214f",
   "metadata": {},
   "outputs": [
    {
     "data": {
      "text/plain": [
       "array([54.25, 57.75, 61.25])"
      ]
     },
     "execution_count": 458,
     "metadata": {},
     "output_type": "execute_result"
    }
   ],
   "source": [
    "#Find the sum of all elements column wise.\n",
    "myarray4.sum(axis=0)\n"
   ]
  },
  {
   "cell_type": "code",
   "execution_count": 460,
   "id": "e8fe7ee2-2796-49a1-be0c-d35ff496fc9f",
   "metadata": {},
   "outputs": [
    {
     "data": {
      "text/plain": [
       "9.25"
      ]
     },
     "execution_count": 460,
     "metadata": {},
     "output_type": "execute_result"
    }
   ],
   "source": [
    "#Find the max of all elements.\n",
    "myarray4.max()"
   ]
  },
  {
   "cell_type": "code",
   "execution_count": 462,
   "id": "7479d6d1-262b-4e3b-b1d6-33e7c0775737",
   "metadata": {},
   "outputs": [
    {
     "data": {
      "text/plain": [
       "-1.0"
      ]
     },
     "execution_count": 462,
     "metadata": {},
     "output_type": "execute_result"
    }
   ],
   "source": [
    "#Find the min of all elements in each row.\n",
    "myarray4. min()"
   ]
  },
  {
   "cell_type": "code",
   "execution_count": 468,
   "id": "0f6432fa-6133-4a7b-8dee-c1b0de5177a5",
   "metadata": {},
   "outputs": [
    {
     "data": {
      "text/plain": [
       "array([-0.75,  0.  ,  0.75,  1.5 ,  2.25,  3.  ,  3.75,  4.5 ,  5.25,\n",
       "        6.  ,  6.75,  7.5 ,  8.25,  9.  ])"
      ]
     },
     "execution_count": 468,
     "metadata": {},
     "output_type": "execute_result"
    }
   ],
   "source": [
    "#Find the mean of all elements in each row\n",
    "myarray4. mean(axis=1)"
   ]
  },
  {
   "cell_type": "code",
   "execution_count": 470,
   "id": "7a1cec52-c010-4d94-822b-07693f0b2411",
   "metadata": {},
   "outputs": [
    {
     "data": {
      "text/plain": [
       "array([3.02334666, 3.02334666, 3.02334666])"
      ]
     },
     "execution_count": 470,
     "metadata": {},
     "output_type": "execute_result"
    }
   ],
   "source": [
    "#Find the standard deviation column wise.\n",
    "myarray4.std(axis=0)"
   ]
  },
  {
   "cell_type": "markdown",
   "id": "8d7e1dca",
   "metadata": {},
   "source": [
    "#### Practice Exercise 2\n",
    "Read the coordinates of the capital cities of the world from the country-capital-lat-long-population.csv file. Use NumPy to print the name and coordinates of the capital city closest to the Saudi Arabia capital - Riyadh.\n",
    "\n",
    "Note that:\n",
    "\n",
    "1. The Country Name for Saudi Arabia is given as Saudi Arabia in the data.\n",
    "2. The ‘closeness’ of capital cities from the Saudi Arabia capital is based on the Euclidean distance of their coordinates to those of the Saudi Arabia capital.\n",
    "\n",
    "\n",
    "Hints:\n",
    "\n",
    "1. Use read_html() from the Pandas library to read the table.\n",
    "2. Use the to_numpy() function of the Pandas DataFrame class to convert a DataFrame to a Numpy array\n",
    "3. Use broadcasting to compute the euclidean distance of capital cities from Riyadh."
   ]
  },
  {
   "cell_type": "code",
   "execution_count": 496,
   "id": "ab6b9725",
   "metadata": {},
   "outputs": [
    {
     "data": {
      "text/html": [
       "<div>\n",
       "<style scoped>\n",
       "    .dataframe tbody tr th:only-of-type {\n",
       "        vertical-align: middle;\n",
       "    }\n",
       "\n",
       "    .dataframe tbody tr th {\n",
       "        vertical-align: top;\n",
       "    }\n",
       "\n",
       "    .dataframe thead th {\n",
       "        text-align: right;\n",
       "    }\n",
       "</style>\n",
       "<table border=\"1\" class=\"dataframe\">\n",
       "  <thead>\n",
       "    <tr style=\"text-align: right;\">\n",
       "      <th></th>\n",
       "      <th>Country</th>\n",
       "      <th>Capital City</th>\n",
       "      <th>Latitude</th>\n",
       "      <th>Longitude</th>\n",
       "      <th>Population</th>\n",
       "      <th>Capital Type</th>\n",
       "    </tr>\n",
       "  </thead>\n",
       "  <tbody>\n",
       "    <tr>\n",
       "      <th>0</th>\n",
       "      <td>Afghanistan</td>\n",
       "      <td>Kabul</td>\n",
       "      <td>34.5289</td>\n",
       "      <td>69.1725</td>\n",
       "      <td>4011770</td>\n",
       "      <td>Capital</td>\n",
       "    </tr>\n",
       "    <tr>\n",
       "      <th>1</th>\n",
       "      <td>Albania</td>\n",
       "      <td>Tiranë (Tirana)</td>\n",
       "      <td>41.3275</td>\n",
       "      <td>19.8189</td>\n",
       "      <td>475577</td>\n",
       "      <td>Capital</td>\n",
       "    </tr>\n",
       "    <tr>\n",
       "      <th>2</th>\n",
       "      <td>Algeria</td>\n",
       "      <td>El Djazaïr  (Algiers)</td>\n",
       "      <td>36.7525</td>\n",
       "      <td>3.0420</td>\n",
       "      <td>2693542</td>\n",
       "      <td>Capital</td>\n",
       "    </tr>\n",
       "    <tr>\n",
       "      <th>3</th>\n",
       "      <td>American Samoa</td>\n",
       "      <td>Pago Pago</td>\n",
       "      <td>-14.2781</td>\n",
       "      <td>-170.7025</td>\n",
       "      <td>48526</td>\n",
       "      <td>Capital</td>\n",
       "    </tr>\n",
       "    <tr>\n",
       "      <th>4</th>\n",
       "      <td>Andorra</td>\n",
       "      <td>Andorra la Vella</td>\n",
       "      <td>42.5078</td>\n",
       "      <td>1.5211</td>\n",
       "      <td>22614</td>\n",
       "      <td>Capital</td>\n",
       "    </tr>\n",
       "  </tbody>\n",
       "</table>\n",
       "</div>"
      ],
      "text/plain": [
       "          Country           Capital City  Latitude  Longitude  Population  \\\n",
       "0     Afghanistan                  Kabul   34.5289    69.1725     4011770   \n",
       "1         Albania        Tiranë (Tirana)   41.3275    19.8189      475577   \n",
       "2         Algeria  El Djazaïr  (Algiers)   36.7525     3.0420     2693542   \n",
       "3  American Samoa              Pago Pago  -14.2781  -170.7025       48526   \n",
       "4         Andorra       Andorra la Vella   42.5078     1.5211       22614   \n",
       "\n",
       "  Capital Type  \n",
       "0      Capital  \n",
       "1      Capital  \n",
       "2      Capital  \n",
       "3      Capital  \n",
       "4      Capital  "
      ]
     },
     "execution_count": 496,
     "metadata": {},
     "output_type": "execute_result"
    }
   ],
   "source": [
    "# Write your answer here\n",
    "import pandas as pd\n",
    "capitals = pd.read_csv('country-capital-lat-long-population.csv')\n",
    "capitals.head()\n"
   ]
  },
  {
   "cell_type": "code",
   "execution_count": 498,
   "id": "6e54fd81-98f6-4aa5-b46c-a5e408e2a7f0",
   "metadata": {},
   "outputs": [
    {
     "data": {
      "text/html": [
       "<div>\n",
       "<style scoped>\n",
       "    .dataframe tbody tr th:only-of-type {\n",
       "        vertical-align: middle;\n",
       "    }\n",
       "\n",
       "    .dataframe tbody tr th {\n",
       "        vertical-align: top;\n",
       "    }\n",
       "\n",
       "    .dataframe thead th {\n",
       "        text-align: right;\n",
       "    }\n",
       "</style>\n",
       "<table border=\"1\" class=\"dataframe\">\n",
       "  <thead>\n",
       "    <tr style=\"text-align: right;\">\n",
       "      <th></th>\n",
       "      <th>Country</th>\n",
       "      <th>Capital City</th>\n",
       "      <th>Latitude</th>\n",
       "      <th>Longitude</th>\n",
       "      <th>Population</th>\n",
       "      <th>Capital Type</th>\n",
       "    </tr>\n",
       "  </thead>\n",
       "  <tbody>\n",
       "    <tr>\n",
       "      <th>229</th>\n",
       "      <td>Wallis and Futuna Islands</td>\n",
       "      <td>Matu-Utu</td>\n",
       "      <td>-13.2816</td>\n",
       "      <td>-176.1745</td>\n",
       "      <td>1025</td>\n",
       "      <td>Capital</td>\n",
       "    </tr>\n",
       "    <tr>\n",
       "      <th>230</th>\n",
       "      <td>Western Sahara</td>\n",
       "      <td>El Aaiún</td>\n",
       "      <td>27.1532</td>\n",
       "      <td>-13.2014</td>\n",
       "      <td>232388</td>\n",
       "      <td>Capital</td>\n",
       "    </tr>\n",
       "    <tr>\n",
       "      <th>231</th>\n",
       "      <td>Yemen</td>\n",
       "      <td>Sana'a'</td>\n",
       "      <td>15.3531</td>\n",
       "      <td>44.2078</td>\n",
       "      <td>2779317</td>\n",
       "      <td>Capital</td>\n",
       "    </tr>\n",
       "    <tr>\n",
       "      <th>232</th>\n",
       "      <td>Zambia</td>\n",
       "      <td>Lusaka</td>\n",
       "      <td>-15.4134</td>\n",
       "      <td>28.2771</td>\n",
       "      <td>2523844</td>\n",
       "      <td>Capital</td>\n",
       "    </tr>\n",
       "    <tr>\n",
       "      <th>233</th>\n",
       "      <td>Zimbabwe</td>\n",
       "      <td>Harare</td>\n",
       "      <td>-17.8294</td>\n",
       "      <td>31.0539</td>\n",
       "      <td>1515016</td>\n",
       "      <td>Capital</td>\n",
       "    </tr>\n",
       "  </tbody>\n",
       "</table>\n",
       "</div>"
      ],
      "text/plain": [
       "                       Country Capital City  Latitude  Longitude  Population  \\\n",
       "229  Wallis and Futuna Islands     Matu-Utu  -13.2816  -176.1745        1025   \n",
       "230             Western Sahara     El Aaiún   27.1532   -13.2014      232388   \n",
       "231                      Yemen      Sana'a'   15.3531    44.2078     2779317   \n",
       "232                     Zambia       Lusaka  -15.4134    28.2771     2523844   \n",
       "233                   Zimbabwe       Harare  -17.8294    31.0539     1515016   \n",
       "\n",
       "    Capital Type  \n",
       "229      Capital  \n",
       "230      Capital  \n",
       "231      Capital  \n",
       "232      Capital  \n",
       "233      Capital  "
      ]
     },
     "execution_count": 498,
     "metadata": {},
     "output_type": "execute_result"
    }
   ],
   "source": [
    "capitals.tail()"
   ]
  },
  {
   "cell_type": "code",
   "execution_count": 500,
   "id": "f1d4964b-979e-4801-a323-64447d044963",
   "metadata": {},
   "outputs": [
    {
     "data": {
      "text/plain": [
       "Country                   Zimbabwe\n",
       "Capital City                Zagreb\n",
       "Latitude                   64.1835\n",
       "Longitude                 179.1991\n",
       "Population                37468302\n",
       "Capital Type    Seat of Government\n",
       "dtype: object"
      ]
     },
     "execution_count": 500,
     "metadata": {},
     "output_type": "execute_result"
    }
   ],
   "source": [
    "capitals.max()"
   ]
  },
  {
   "cell_type": "code",
   "execution_count": 502,
   "id": "0e72b7a9-e6b0-4e2f-8605-5eb638402f31",
   "metadata": {},
   "outputs": [
    {
     "name": "stdout",
     "output_type": "stream",
     "text": [
      "<class 'pandas.core.frame.DataFrame'>\n",
      "RangeIndex: 234 entries, 0 to 233\n",
      "Data columns (total 6 columns):\n",
      " #   Column        Non-Null Count  Dtype  \n",
      "---  ------        --------------  -----  \n",
      " 0   Country       234 non-null    object \n",
      " 1   Capital City  234 non-null    object \n",
      " 2   Latitude      234 non-null    float64\n",
      " 3   Longitude     234 non-null    float64\n",
      " 4   Population    234 non-null    int64  \n",
      " 5   Capital Type  234 non-null    object \n",
      "dtypes: float64(2), int64(1), object(3)\n",
      "memory usage: 11.1+ KB\n"
     ]
    }
   ],
   "source": [
    "capitals.info()\n"
   ]
  },
  {
   "cell_type": "code",
   "execution_count": 510,
   "id": "1dcba1b1-f8dc-4ddb-aeec-c456c778d65c",
   "metadata": {},
   "outputs": [
    {
     "data": {
      "text/plain": [
       "array([['Afghanistan', 'Kabul', 34.5289, 69.1725, 4011770, 'Capital'],\n",
       "       ['Albania', 'Tiranë (Tirana)', 41.3275, 19.8189, 475577,\n",
       "        'Capital'],\n",
       "       ['Algeria', 'El Djazaïr  (Algiers)', 36.7525, 3.042, 2693542,\n",
       "        'Capital'],\n",
       "       ...,\n",
       "       ['Yemen', \"Sana'a'\", 15.3531, 44.2078, 2779317, 'Capital'],\n",
       "       ['Zambia', 'Lusaka', -15.4134, 28.2771, 2523844, 'Capital'],\n",
       "       ['Zimbabwe', 'Harare', -17.8294, 31.0539, 1515016, 'Capital']],\n",
       "      dtype=object)"
      ]
     },
     "execution_count": 510,
     "metadata": {},
     "output_type": "execute_result"
    }
   ],
   "source": [
    "#Use the to_numpy() function of the Pandas DataFrame class to convert a DataFrame to a Numpy array\n",
    "numpy_array = pd.DataFrame(capitals)\n",
    "numpy_array = numpy_array .to_numpy()\n",
    "numpy_array "
   ]
  },
  {
   "cell_type": "code",
   "execution_count": 514,
   "id": "5cf6e39c-77aa-4156-b1c3-db13ca94c561",
   "metadata": {},
   "outputs": [
    {
     "name": "stdout",
     "output_type": "stream",
     "text": [
      "                       Country           Capital City  Distance from Riyadh\n",
      "0                  Afghanistan                  Kabul             24.545145\n",
      "1                      Albania        Tiranë (Tirana)             31.579865\n",
      "2                      Algeria  El Djazaïr  (Algiers)             45.263672\n",
      "3               American Samoa              Pago Pago            220.847143\n",
      "4                      Andorra       Andorra la Vella             48.533858\n",
      "..                         ...                    ...                   ...\n",
      "229  Wallis and Futuna Islands               Matu-Utu            226.065629\n",
      "230             Western Sahara               El Aaiún             59.926379\n",
      "231                      Yemen                Sana'a'              9.680264\n",
      "232                     Zambia                 Lusaka             44.143741\n",
      "233                   Zimbabwe                 Harare             45.320360\n",
      "\n",
      "[234 rows x 3 columns]\n"
     ]
    }
   ],
   "source": [
    "#Use broadcasting to compute the euclidean distance of capital cities from Riyadh.\n",
    "capitals = pd.DataFrame(capitals)\n",
    "\n",
    "# Step 2: Coordinates of Riyadh (Saudi Arabia)\n",
    "riyadh_coordinates = np.array([24.7136, 46.6753])\n",
    "\n",
    "# Step 3: Extract the coordinates (Latitude, Longitude) of all other capital cities\n",
    "capital_coordinates = capitals[['Latitude', 'Longitude']].to_numpy()\n",
    "\n",
    "# Step 4: Compute the Euclidean distances using broadcasting\n",
    "# Distance = sqrt((x2 - x1)^2 + (y2 - y1)^2)\n",
    "distances = np.sqrt(np.sum((capital_coordinates - riyadh_coordinates) ** 2, axis=1))\n",
    "\n",
    "# Step 5: Add the distances to the DataFrame\n",
    "capitals['Distance from Riyadh'] = distances\n",
    "\n",
    "# Step 6: Print the DataFrame with the distances\n",
    "print(capitals[['Country', 'Capital City', 'Distance from Riyadh']])"
   ]
  },
  {
   "cell_type": "markdown",
   "id": "1fdbec05",
   "metadata": {},
   "source": [
    "#### Practical Exercise 2\n",
    "\n",
    "Use NumPy to:\n",
    "\n",
    "1. Print the names of the countries of the top 10 capital cities closest to the US capital - Washington DC.\n",
    "\n",
    "2. Create and print a NumPy array containing the coordinates of the top 10 cities."
   ]
  },
  {
   "cell_type": "code",
   "execution_count": 516,
   "id": "45046a85",
   "metadata": {},
   "outputs": [
    {
     "name": "stdout",
     "output_type": "stream",
     "text": [
      "                       Country        Capital City  \\\n",
      "36                      Canada     Ottawa-Gatineau   \n",
      "14                     Bahamas              Nassau   \n",
      "22                     Bermuda            Hamilton   \n",
      "55                        Cuba  La Habana (Havana)   \n",
      "215   Turks and Caicos Islands       Cockburn Town   \n",
      "38              Cayman Islands         George Town   \n",
      "94                       Haiti      Port-au-Prince   \n",
      "107                    Jamaica            Kingston   \n",
      "64          Dominican Republic       Santo Domingo   \n",
      "177  Saint Pierre and Miquelon        Saint-Pierre   \n",
      "\n",
      "     Distance from Washington, D.C.  \n",
      "36                         6.657523  \n",
      "14                        13.840288  \n",
      "22                        13.924373  \n",
      "55                        16.655397  \n",
      "215                       18.403584  \n",
      "38                        20.082509  \n",
      "94                        20.891877  \n",
      "107                       20.899516  \n",
      "64                        21.616986  \n",
      "177                       22.293982  \n"
     ]
    }
   ],
   "source": [
    "# Write your answer here\n",
    "capitals = pd.DataFrame(capitals)\n",
    "\n",
    "# Step 2: Coordinates of Washington, D.C. (USA)\n",
    "washington_dc_coordinates = np.array([38.8951, -77.0369])\n",
    "\n",
    "# Step 3: Extract the coordinates (Latitude, Longitude) of all other capital cities\n",
    "capital_coordinates = capitals[['Latitude', 'Longitude']].to_numpy()\n",
    "\n",
    "# Step 4: Compute the Euclidean distances using broadcasting\n",
    "distances = np.sqrt(np.sum((capital_coordinates - washington_dc_coordinates) ** 2, axis=1))\n",
    "\n",
    "# Step 5: Add the distances to the DataFrame\n",
    "capitals['Distance from Washington, D.C.'] = distances\n",
    "\n",
    "# Step 6: Sort the DataFrame by the distance and get the top 10 closest cities\n",
    "closest_capitals = capitals[capitals['Capital City'] != 'Washington, D.C.'].sort_values('Distance from Washington, D.C.').head(10)\n",
    "\n",
    "# Step 7: Print the names of the countries of the top 10 closest capital cities\n",
    "print(closest_capitals[['Country', 'Capital City', 'Distance from Washington, D.C.']])\n",
    "\n",
    "\n",
    "\n"
   ]
  },
  {
   "cell_type": "code",
   "execution_count": 520,
   "id": "d087862d-fce8-49dc-9639-dad74d2bfeb3",
   "metadata": {},
   "outputs": [
    {
     "name": "stdout",
     "output_type": "stream",
     "text": [
      "Coordinates of the top 10 closest cities to Washington, D.C.:\n",
      "[[ 45.4166 -75.698 ]\n",
      " [ 25.0582 -77.3431]\n",
      " [ 32.2915 -64.778 ]\n",
      " [ 23.1195 -82.3785]\n",
      " [ 21.4612 -71.1419]\n",
      " [ 19.2866 -81.3744]\n",
      " [ 18.5392 -72.335 ]\n",
      " [ 17.997  -76.7936]\n",
      " [ 18.4896 -69.9018]\n",
      " [ 46.7738 -56.1815]]\n"
     ]
    }
   ],
   "source": [
    "#Create and print a NumPy array containing the coordinates of the top 10 cities.\n",
    "capitals = pd.DataFrame(capitals)\n",
    "\n",
    "# Step 2: Coordinates of Washington, D.C. (USA)\n",
    "washington_dc_coordinates = np.array([38.8951, -77.0369])\n",
    "\n",
    "# Step 3: Extract the coordinates (Latitude, Longitude) of all other capital cities\n",
    "capital_coordinates = capitals[['Latitude', 'Longitude']].to_numpy()\n",
    "\n",
    "# Step 4: Compute the Euclidean distances using broadcasting\n",
    "distances = np.sqrt(np.sum((capital_coordinates - washington_dc_coordinates) ** 2, axis=1))\n",
    "\n",
    "# Step 5: Add the distances to the DataFrame\n",
    "capitals['Distance from Washington, D.C.'] = distances\n",
    "\n",
    "# Step 6: Sort the DataFrame by the distance and get the top 10 closest cities\n",
    "closest_capitals = capitals[capitals['Capital City'] != 'Washington, D.C.'].sort_values('Distance from Washington, D.C.').head(10)\n",
    "\n",
    "# Step 7: Create a NumPy array with the coordinates of the top 10 closest capital cities\n",
    "closest_coordinates = closest_capitals[['Latitude', 'Longitude']].to_numpy()\n",
    "\n",
    "# Step 8: Print the NumPy array\n",
    "print(\"Coordinates of the top 10 closest cities to Washington, D.C.:\")\n",
    "print(closest_coordinates)"
   ]
  },
  {
   "cell_type": "code",
   "execution_count": null,
   "id": "1af4baaf-9e58-477f-8190-e48187e2d138",
   "metadata": {},
   "outputs": [],
   "source": []
  }
 ],
 "metadata": {
  "kernelspec": {
   "display_name": "Python 3 (ipykernel)",
   "language": "python",
   "name": "python3"
  },
  "language_info": {
   "codemirror_mode": {
    "name": "ipython",
    "version": 3
   },
   "file_extension": ".py",
   "mimetype": "text/x-python",
   "name": "python",
   "nbconvert_exporter": "python",
   "pygments_lexer": "ipython3",
   "version": "3.12.4"
  }
 },
 "nbformat": 4,
 "nbformat_minor": 5
}
